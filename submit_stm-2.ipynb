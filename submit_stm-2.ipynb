{
 "cells": [
  {
   "cell_type": "code",
   "execution_count": 1,
   "metadata": {},
   "outputs": [],
   "source": [
    "%aiida\n",
    "from aiida import load_dbenv, is_dbenv_loaded\n",
    "from aiida.backends import settings\n",
    "if not is_dbenv_loaded():\n",
    "    load_dbenv(profile=settings.AIIDADB_PROFILE)"
   ]
  },
  {
   "cell_type": "code",
   "execution_count": 2,
   "metadata": {},
   "outputs": [],
   "source": [
    "import aiida.orm\n",
    "\n",
    "geometry_node = aiida.orm.load_node(2501)"
   ]
  },
  {
   "cell_type": "code",
   "execution_count": 3,
   "metadata": {},
   "outputs": [
    {
     "data": {
      "text/plain": [
       "Atoms(symbols='C128H52', pbc=False, cell=[52.6424699363, 8.2124020701, 0.2005000008], masses=...)"
      ]
     },
     "execution_count": 3,
     "metadata": {},
     "output_type": "execute_result"
    }
   ],
   "source": [
    "geometry_node.get_ase()"
   ]
  },
  {
   "cell_type": "code",
   "execution_count": 4,
   "metadata": {},
   "outputs": [
    {
     "data": {
      "text/plain": [
       "[[u'daint-s746',\n",
       "  <Code: Remote code 'cp2k_6.0_18265' on daint-s746, pk: 214, uuid: f29f8268-2d86-4d8c-9fe8-cb491575db42>],\n",
       " [u'daint-s746-normal',\n",
       "  <Code: Remote code 'cp2k_6.0_18265' on daint-s746-normal, pk: 1078, uuid: 2b831656-7e4e-4ede-b4a1-e7868ed86c34>]]"
      ]
     },
     "execution_count": 4,
     "metadata": {},
     "output_type": "execute_result"
    }
   ],
   "source": [
    "from aiida.orm.code import Code\n",
    "from aiida.orm import Code, Computer\n",
    "from aiida.orm.querybuilder import QueryBuilder\n",
    "from aiida.orm.data.base import Int, Float, Str, Bool\n",
    "from aiida.work.run import submit\n",
    "from aiida.orm.data.structure import StructureData\n",
    "\n",
    "## -------------------------------------------------------\n",
    "## Select computer and code\n",
    "qb = QueryBuilder()\n",
    "qb.append(Computer, filters={'enabled': True}, project='name', tag='computer')\n",
    "qb.append(Code, project='*', has_computer='computer', filters={'attributes.input_plugin': 'cp2k'})\n",
    "qb.order_by({Code: {'id': 'asc'}})\n",
    "\n",
    "computer, cp2k_code = qb.all()[1]\n",
    "\n",
    "qb.all()\n",
    "## -------------------------------------------------------"
   ]
  },
  {
   "cell_type": "code",
   "execution_count": 5,
   "metadata": {},
   "outputs": [
    {
     "name": "stdout",
     "output_type": "stream",
     "text": [
      "0 [<Code: Remote code 'cp2k_6.0_18265' on daint-s746, pk: 214, uuid: f29f8268-2d86-4d8c-9fe8-cb491575db42>]\n",
      "1 [<Code: Remote code 'pw-6.1' on daint-s746, pk: 215, uuid: 72f53cb2-1725-444a-82ad-4d6b8b6b8d63>]\n",
      "2 [<Code: Remote code 'pp-6.1' on daint-s746, pk: 216, uuid: 7828ae51-1a67-4675-97b6-09c35a92e00c>]\n",
      "3 [<Code: Remote code 'ph-6.1' on daint-s746, pk: 217, uuid: aef87ad8-91c1-4c4f-a901-05851d3b4a69>]\n",
      "4 [<Code: Remote code 'projwfc-6.1' on daint-s746, pk: 218, uuid: 049ab577-eea0-4f6a-bda4-9104c833839e>]\n",
      "5 [<Code: Remote code 'matdyn-6.1' on daint-s746, pk: 219, uuid: 75226995-05f2-4f0b-accc-82fde07302fd>]\n",
      "6 [<Code: Remote code 'q2r-6.1' on daint-s746, pk: 220, uuid: a59fde03-84a6-4b1a-9333-9ccc63a90c1c>]\n",
      "7 [<Code: Remote code 'python3' on daint-s746-normal, pk: 2444, uuid: 8c7308b7-1cf8-4d53-b0d2-02ef70f345da>]\n",
      "8 [<Code: Remote code 'cp2k_6.0_18265' on daint-s746-normal, pk: 1078, uuid: 2b831656-7e4e-4ede-b4a1-e7868ed86c34>]\n",
      "9 [<Code: Remote code 'pw-6.1' on daint-s746-normal, pk: 1079, uuid: 409de94c-2397-41de-a832-cb43dd242320>]\n",
      "10 [<Code: Remote code 'pp-6.1' on daint-s746-normal, pk: 1080, uuid: 6e44c37a-8f03-485b-bae4-e83d1c7fad52>]\n",
      "11 [<Code: Remote code 'ph-6.1' on daint-s746-normal, pk: 1081, uuid: 2fe4aff7-16fb-453e-9a8b-1ff33199ed19>]\n",
      "12 [<Code: Remote code 'projwfc-6.1' on daint-s746-normal, pk: 1082, uuid: f53c4538-4c35-4c42-be3d-253fa7769990>]\n",
      "13 [<Code: Remote code 'matdyn-6.1' on daint-s746-normal, pk: 1083, uuid: 9aa49b21-3826-42ba-be10-916eabfc92ff>]\n",
      "14 [<Code: Remote code 'q2r-6.1' on daint-s746-normal, pk: 1084, uuid: 64e560da-4786-495c-8d17-dc3cc2bf0bd4>]\n",
      "15 [<Code: Remote code 'py_eval_morbs_6a7e3' on daint-s746-normal, pk: 2265, uuid: e31902cb-31ec-42fd-ad44-b50c7019c967>]\n",
      "16 [<Code: Remote code 'py_stm_sts_6a7e3' on daint-s746-normal, pk: 2266, uuid: 6c06da7b-3dcf-4fe8-bc07-b2b8a9cf4b26>]\n",
      "17 [<Code: Remote code 'py_stm_sts_41f55' on daint-s746-normal, pk: 2816, uuid: c7a9099a-f05b-4fba-8de0-0d8bf58c1b45>]\n",
      "18 [<Code: Remote code 'py_eval_morbs_41f55' on daint-s746-normal, pk: 2815, uuid: 770bf341-90b1-45b0-b81d-ae1ae0629cbc>]\n",
      "19 [<Code: Remote code 'py_eval_morbs_41f550' on daint-s746-normal, pk: 2867, uuid: d57b641c-4c86-4cfa-81c0-e7c78fa6cbe8>]\n",
      "20 [<Code: Remote code 'py_stm_sts_41f550' on daint-s746-normal, pk: 2868, uuid: 62feb080-b30e-424b-a734-510b6f5033c6>]\n",
      "21 [<Code: Remote code 'py_eval_morbs_8c552' on daint-s746-normal, pk: 2958, uuid: bfa729a5-d1f2-448a-b5f1-9926635826b0>]\n",
      "22 [<Code: Remote code 'py_stm_sts_8c552' on daint-s746-normal, pk: 2959, uuid: 0ebb517a-402a-457b-a169-fd806c149aa8>]\n",
      "23 [<Code: Remote code 'py_eval_morbs_6e1e3' on daint-s746-normal, pk: 2991, uuid: 55216fc7-9cbc-4039-99c4-5fd6ec26e74e>]\n",
      "24 [<Code: Remote code 'py_stm_sts_6e1e3' on daint-s746-normal, pk: 2992, uuid: 5fe1dfc6-f002-424e-97a1-08acedc5e8e5>]\n",
      "25 [<Code: Remote code 'py_eval_morbs_41f550e' on daint-s746-normal, pk: 2931, uuid: 97634aff-0c7d-4920-837c-3ca4d4247860>]\n",
      "26 [<Code: Remote code 'py_stm_sts_41f550e' on daint-s746-normal, pk: 2933, uuid: 4b6c96f1-ffbe-431f-be59-1666d2a88d26>]\n",
      "27 [<Code: Remote code 'py_eval_morbs_0eadf' on daint-s746-normal, pk: 3021, uuid: 7db2fc62-33e0-45d7-9bbb-615f06cbbc2b>]\n",
      "28 [<Code: Remote code 'py_stm_sts_0eadf' on daint-s746-normal, pk: 3022, uuid: f65729a2-9fc4-4262-9a8f-5570cf60468a>]\n",
      "29 [<Code: Remote code 'py_stm_sts_0eadfd' on daint-s746-normal, pk: 3050, uuid: e83e9557-0192-4cf8-8e83-55d3663067ef>]\n",
      "30 [<Code: Remote code 'py_eval_morbs_0eadfd' on daint-s746-normal, pk: 3048, uuid: faf0e9da-a88b-4986-87d5-2ca2b4bb2a49>]\n"
     ]
    }
   ],
   "source": [
    "qb = QueryBuilder()\n",
    "qb.append(Code)\n",
    "\n",
    "stm_image_code = qb.all()[29][0]\n",
    "eval_orbs_code = qb.all()[30][0]\n",
    "\n",
    "for i, code in enumerate(qb.all()):\n",
    "    print i, code"
   ]
  },
  {
   "cell_type": "code",
   "execution_count": 6,
   "metadata": {},
   "outputs": [],
   "source": [
    "from aiida.orm.data.parameter import ParameterData\n",
    "\n",
    "parent_dir = \"parent_calc/\"\n",
    "\n",
    "eval_orbs_params = ParameterData(dict={\n",
    "    '--cp2k_input':  parent_dir+'aiida.inp',\n",
    "    '--basis_file':  parent_dir+'BASIS_MOLOPT',\n",
    "    '--xyz_file':    parent_dir+'geom.xyz',\n",
    "    '--wfn_file':    parent_dir+'aiida-RESTART.wfn',\n",
    "    '--output_file': 'morbs_dx0.2',\n",
    "    '--emin':        '-2.0',\n",
    "    '--emax':        ' 2.0',\n",
    "    '--eval_region': ['G', 'G', 'G', 'G', 'b-2.0_C', 't4.0'],\n",
    "    '--dx':          '0.2',\n",
    "    '--eval_cutoff': '14.0'\n",
    "})\n",
    "\n",
    "stm_image_params = ParameterData(dict={\n",
    "    '--npz_file':          parent_dir+'morbs_dx0.2.npz',\n",
    "    '--hartree_file':      parent_dir+parent_dir+'aiida-HART-v_hartree-1_0.cube',\n",
    "    '--extrap_plane':      '3.0',\n",
    "    '--extrap_extent':     '8.0',\n",
    "    '--output_dir':        'stm_output',\n",
    "#\n",
    "    '--bias_voltages':     ['-1.0', '1.0'],\n",
    "    '--stm_plane_heights': ['3.0', '5.0'],\n",
    "    '--stm_isovalues':     ['1e-7', '1e-6'],\n",
    "#\n",
    "    '--sts_plane_heights': ['5.0'],\n",
    "    '--sts_de':            '0.05',\n",
    "    '--sts_fwhm':          '0.10',\n",
    "    '--sts_elim':          ['-1.0', '1.0'],\n",
    "#\n",
    "    '--orb_plane_heights': ['3.0', '5.0'],\n",
    "    '--n_homo':            '3',\n",
    "    '--n_lumo':            '3'\n",
    "})"
   ]
  },
  {
   "cell_type": "code",
   "execution_count": 7,
   "metadata": {},
   "outputs": [],
   "source": [
    "from apps.stm.stm_workchain import STMWorkChain"
   ]
  },
  {
   "cell_type": "code",
   "execution_count": 8,
   "metadata": {},
   "outputs": [
    {
     "data": {
      "text/plain": [
       "RunningInfo(type=<RunningType.PROCESS: 0>, pid=3087)"
      ]
     },
     "execution_count": 8,
     "metadata": {},
     "output_type": "execute_result"
    }
   ],
   "source": [
    "outputs = submit(STMWorkChain,\n",
    "                 cp2k_code=cp2k_code,\n",
    "                 structure=geometry_node,\n",
    "                 eval_orbs_code=eval_orbs_code,\n",
    "                 eval_orbs_params=eval_orbs_params,\n",
    "                 stm_image_code=stm_image_code,\n",
    "                 stm_image_params=stm_image_params\n",
    "                )\n",
    "outputs"
   ]
  },
  {
   "cell_type": "code",
   "execution_count": null,
   "metadata": {},
   "outputs": [],
   "source": []
  },
  {
   "cell_type": "code",
   "execution_count": null,
   "metadata": {},
   "outputs": [],
   "source": []
  },
  {
   "cell_type": "code",
   "execution_count": 71,
   "metadata": {
    "scrolled": true
   },
   "outputs": [
    {
     "name": "stdout",
     "output_type": "stream",
     "text": [
      "mkdir: cannot create directory ‘tmp’: File exists\n",
      "--2018-06-08 11:56:40--  https://github.com/eimrek/atomistic_tools/archive/master.zip\n",
      "Resolving github.com (github.com)... 192.30.253.113, 192.30.253.112\n",
      "Connecting to github.com (github.com)|192.30.253.113|:443... connected.\n",
      "HTTP request sent, awaiting response... 302 Found\n",
      "Location: https://codeload.github.com/eimrek/atomistic_tools/zip/master [following]\n",
      "--2018-06-08 11:56:41--  https://codeload.github.com/eimrek/atomistic_tools/zip/master\n",
      "Resolving codeload.github.com (codeload.github.com)... 192.30.253.121, 192.30.253.120\n",
      "Connecting to codeload.github.com (codeload.github.com)|192.30.253.121|:443... connected.\n",
      "HTTP request sent, awaiting response... 200 OK\n",
      "Length: unspecified [application/zip]\n",
      "Saving to: ‘./tmp/master.zip.1’\n",
      "\n",
      "master.zip.1            [    <=>             ]   7.48M  8.60MB/s    in 0.9s    \n",
      "\n",
      "2018-06-08 11:56:42 (8.60 MB/s) - ‘./tmp/master.zip.1’ saved [7840482]\n",
      "\n",
      "Archive:  ./tmp/master.zip\n",
      "6a7e346c429dae792cbf34005159ee0deb006b63\n",
      "replace ./tmp/atomistic_tools-master/.gitignore? [y]es, [n]o, [A]ll, [N]one, [r]ename: ^C\n"
     ]
    }
   ],
   "source": [
    "# Create inputs for the eval_morbs step\n",
    "\n",
    "# Get the code from repo\n",
    "\n",
    "! mkdir tmp\n",
    "! wget https://github.com/eimrek/atomistic_tools/archive/master.zip -P ./tmp\n",
    "! unzip ./tmp/master.zip -d ./tmp"
   ]
  },
  {
   "cell_type": "code",
   "execution_count": 8,
   "metadata": {},
   "outputs": [
    {
     "ename": "ValueError",
     "evalue": "Unable to set 'file', no set_file method found",
     "output_type": "error",
     "traceback": [
      "\u001b[0;31m\u001b[0m",
      "\u001b[0;31mValueError\u001b[0mTraceback (most recent call last)",
      "\u001b[0;32m<ipython-input-8-ce2ed9b2d154>\u001b[0m in \u001b[0;36m<module>\u001b[0;34m()\u001b[0m\n\u001b[1;32m      4\u001b[0m \u001b[0;34m\u001b[0m\u001b[0m\n\u001b[1;32m      5\u001b[0m \u001b[0meval_script\u001b[0m \u001b[0;34m=\u001b[0m \u001b[0mSinglefileData\u001b[0m\u001b[0;34m(\u001b[0m\u001b[0mfile\u001b[0m\u001b[0;34m=\u001b[0m\u001b[0;34m\"/project/apps/stm/tmp/atomistic_tools-master/evaluate_morbs_in_box_mpi.py\"\u001b[0m\u001b[0;34m)\u001b[0m\u001b[0;34m\u001b[0m\u001b[0m\n\u001b[0;32m----> 6\u001b[0;31m \u001b[0meval_lib_folder\u001b[0m \u001b[0;34m=\u001b[0m \u001b[0mFolderData\u001b[0m\u001b[0;34m(\u001b[0m\u001b[0mfile\u001b[0m\u001b[0;34m=\u001b[0m\u001b[0;34m\"/project/apps/stm/tmp/atomistic_tools-master/atomistic_tools\"\u001b[0m\u001b[0;34m)\u001b[0m\u001b[0;34m\u001b[0m\u001b[0m\n\u001b[0m",
      "\u001b[0;32m/usr/local/lib/python2.7/dist-packages/aiida/orm/implementation/django/node.pyc\u001b[0m in \u001b[0;36m__init__\u001b[0;34m(self, **kwargs)\u001b[0m\n\u001b[1;32m    144\u001b[0m             \u001b[0;31m# Automatically set all *other* attributes, if possible, otherwise\u001b[0m\u001b[0;34m\u001b[0m\u001b[0;34m\u001b[0m\u001b[0m\n\u001b[1;32m    145\u001b[0m             \u001b[0;31m# stop\u001b[0m\u001b[0;34m\u001b[0m\u001b[0;34m\u001b[0m\u001b[0m\n\u001b[0;32m--> 146\u001b[0;31m             \u001b[0mself\u001b[0m\u001b[0;34m.\u001b[0m\u001b[0m_set_with_defaults\u001b[0m\u001b[0;34m(\u001b[0m\u001b[0;34m**\u001b[0m\u001b[0mkwargs\u001b[0m\u001b[0;34m)\u001b[0m\u001b[0;34m\u001b[0m\u001b[0m\n\u001b[0m\u001b[1;32m    147\u001b[0m \u001b[0;34m\u001b[0m\u001b[0m\n\u001b[1;32m    148\u001b[0m     \u001b[0;34m@\u001b[0m\u001b[0mproperty\u001b[0m\u001b[0;34m\u001b[0m\u001b[0m\n",
      "\u001b[0;32m/usr/local/lib/python2.7/dist-packages/aiida/orm/implementation/general/node.pyc\u001b[0m in \u001b[0;36m_set_with_defaults\u001b[0;34m(self, **kwargs)\u001b[0m\n\u001b[1;32m    307\u001b[0m \u001b[0;34m\u001b[0m\u001b[0m\n\u001b[1;32m    308\u001b[0m         \u001b[0;31m# Pass everything to 'set'\u001b[0m\u001b[0;34m\u001b[0m\u001b[0;34m\u001b[0m\u001b[0m\n\u001b[0;32m--> 309\u001b[0;31m         \u001b[0mself\u001b[0m\u001b[0;34m.\u001b[0m\u001b[0mset\u001b[0m\u001b[0;34m(\u001b[0m\u001b[0;34m**\u001b[0m\u001b[0mkwargs\u001b[0m\u001b[0;34m)\u001b[0m\u001b[0;34m\u001b[0m\u001b[0m\n\u001b[0m\u001b[1;32m    310\u001b[0m \u001b[0;34m\u001b[0m\u001b[0m\n\u001b[1;32m    311\u001b[0m     \u001b[0;32mdef\u001b[0m \u001b[0mset\u001b[0m\u001b[0;34m(\u001b[0m\u001b[0mself\u001b[0m\u001b[0;34m,\u001b[0m \u001b[0;34m**\u001b[0m\u001b[0mkwargs\u001b[0m\u001b[0;34m)\u001b[0m\u001b[0;34m:\u001b[0m\u001b[0;34m\u001b[0m\u001b[0m\n",
      "\u001b[0;32m/usr/local/lib/python2.7/dist-packages/aiida/orm/implementation/general/node.pyc\u001b[0m in \u001b[0;36mset\u001b[0;34m(self, **kwargs)\u001b[0m\n\u001b[1;32m    333\u001b[0m             \u001b[0;32min\u001b[0m \u001b[0mself\u001b[0m\u001b[0;34m,\u001b[0m \u001b[0;32mor\u001b[0m \u001b[0;32mif\u001b[0m \u001b[0mthe\u001b[0m \u001b[0mmethods\u001b[0m \u001b[0mcannot\u001b[0m \u001b[0mbe\u001b[0m \u001b[0mset\u001b[0m \u001b[0mat\u001b[0m \u001b[0mthe\u001b[0m \u001b[0msame\u001b[0m \u001b[0mtime\u001b[0m\u001b[0;34m.\u001b[0m\u001b[0;34m\u001b[0m\u001b[0m\n\u001b[1;32m    334\u001b[0m         \"\"\"\n\u001b[0;32m--> 335\u001b[0;31m         \u001b[0mself\u001b[0m\u001b[0;34m.\u001b[0m\u001b[0m_set_internal\u001b[0m\u001b[0;34m(\u001b[0m\u001b[0marguments\u001b[0m\u001b[0;34m=\u001b[0m\u001b[0mkwargs\u001b[0m\u001b[0;34m,\u001b[0m \u001b[0mallow_hidden\u001b[0m\u001b[0;34m=\u001b[0m\u001b[0mFalse\u001b[0m\u001b[0;34m)\u001b[0m\u001b[0;34m\u001b[0m\u001b[0m\n\u001b[0m\u001b[1;32m    336\u001b[0m \u001b[0;34m\u001b[0m\u001b[0m\n\u001b[1;32m    337\u001b[0m     \u001b[0;32mdef\u001b[0m \u001b[0m_set_internal\u001b[0m\u001b[0;34m(\u001b[0m\u001b[0mself\u001b[0m\u001b[0;34m,\u001b[0m \u001b[0marguments\u001b[0m\u001b[0;34m,\u001b[0m \u001b[0mallow_hidden\u001b[0m\u001b[0;34m=\u001b[0m\u001b[0mFalse\u001b[0m\u001b[0;34m)\u001b[0m\u001b[0;34m:\u001b[0m\u001b[0;34m\u001b[0m\u001b[0m\n",
      "\u001b[0;32m/usr/local/lib/python2.7/dist-packages/aiida/orm/implementation/general/node.pyc\u001b[0m in \u001b[0;36m_set_internal\u001b[0;34m(self, arguments, allow_hidden)\u001b[0m\n\u001b[1;32m    362\u001b[0m             \u001b[0;32mexcept\u001b[0m \u001b[0mAttributeError\u001b[0m\u001b[0;34m:\u001b[0m\u001b[0;34m\u001b[0m\u001b[0m\n\u001b[1;32m    363\u001b[0m                 raise ValueError(\"Unable to set '{0}', no set_{0} method \"\n\u001b[0;32m--> 364\u001b[0;31m                                  \"found\".format(k))\n\u001b[0m\u001b[1;32m    365\u001b[0m             \u001b[0;32mif\u001b[0m \u001b[0;32mnot\u001b[0m \u001b[0misinstance\u001b[0m\u001b[0;34m(\u001b[0m\u001b[0mmethod\u001b[0m\u001b[0;34m,\u001b[0m \u001b[0mcollections\u001b[0m\u001b[0;34m.\u001b[0m\u001b[0mCallable\u001b[0m\u001b[0;34m)\u001b[0m\u001b[0;34m:\u001b[0m\u001b[0;34m\u001b[0m\u001b[0m\n\u001b[1;32m    366\u001b[0m                 raise ValueError(\"Unable to set '{0}', set_{0} is not \"\n",
      "\u001b[0;31mValueError\u001b[0m: Unable to set 'file', no set_file method found"
     ]
    }
   ],
   "source": [
    "from aiida.orm.data.singlefile import SinglefileData\n",
    "from aiida.orm.data.folder import FolderData\n",
    "\n",
    "\n",
    "eval_script = SinglefileData(file=\"/project/apps/stm/tmp/atomistic_tools-master/evaluate_morbs_in_box_mpi.py\")\n",
    "eval_lib_folder = FolderData(file=\"/project/apps/stm/tmp/atomistic_tools-master/atomistic_tools\")"
   ]
  },
  {
   "cell_type": "code",
   "execution_count": null,
   "metadata": {},
   "outputs": [],
   "source": []
  },
  {
   "cell_type": "code",
   "execution_count": 9,
   "metadata": {},
   "outputs": [],
   "source": []
  },
  {
   "cell_type": "code",
   "execution_count": 18,
   "metadata": {},
   "outputs": [],
   "source": []
  },
  {
   "cell_type": "code",
   "execution_count": null,
   "metadata": {},
   "outputs": [],
   "source": []
  }
 ],
 "metadata": {
  "kernelspec": {
   "display_name": "Python 2",
   "language": "python",
   "name": "python2"
  },
  "language_info": {
   "codemirror_mode": {
    "name": "ipython",
    "version": 2
   },
   "file_extension": ".py",
   "mimetype": "text/x-python",
   "name": "python",
   "nbconvert_exporter": "python",
   "pygments_lexer": "ipython2",
   "version": "2.7.14"
  }
 },
 "nbformat": 4,
 "nbformat_minor": 2
}
