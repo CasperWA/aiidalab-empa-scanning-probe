{
 "cells": [
  {
   "cell_type": "code",
   "execution_count": null,
   "metadata": {},
   "outputs": [],
   "source": [
    "%aiida\n",
    "from aiida import load_dbenv, is_dbenv_loaded\n",
    "from aiida.backends import settings\n",
    "if not is_dbenv_loaded():\n",
    "    load_dbenv(profile=settings.AIIDADB_PROFILE)\n",
    "    \n",
    "from aiida.orm.querybuilder import QueryBuilder\n",
    "from aiida.orm import load_node, Code, Computer\n",
    "from aiida.common.exceptions import NotExistent, MultipleObjectsError\n",
    "\n",
    "\n",
    "import ipywidgets as ipw\n",
    "from IPython.display import display, clear_output"
   ]
  },
  {
   "cell_type": "markdown",
   "metadata": {},
   "source": [
    "# Install and/or update plugins"
   ]
  },
  {
   "cell_type": "code",
   "execution_count": null,
   "metadata": {},
   "outputs": [],
   "source": [
    "def on_setup_plugins(b):\n",
    "    with setup_plugin_output:\n",
    "        clear_output()\n",
    "        ! pip install -e ./plugins/\n",
    "        ! reentry scan -r aiida\n",
    "\n",
    "setup_plugin_output = ipw.Output()\n",
    "btn_setup_plugins = ipw.Button(description=\"Install stm plugins\")\n",
    "btn_setup_plugins.on_click(on_setup_plugins)\n",
    "display(btn_setup_plugins, setup_plugin_output)"
   ]
  },
  {
   "cell_type": "code",
   "execution_count": null,
   "metadata": {},
   "outputs": [],
   "source": [
    "def on_list_plugins(b):\n",
    "    with list_plugin_output:\n",
    "        ! verdi calculation plugins\n",
    "\n",
    "list_plugin_output = ipw.Output()\n",
    "btn_list_plugins = ipw.Button(description=\"List all plugins\")\n",
    "btn_list_plugins.on_click(on_list_plugins)\n",
    "display(btn_list_plugins, list_plugin_output)"
   ]
  },
  {
   "cell_type": "markdown",
   "metadata": {},
   "source": [
    "# Setup STM codes"
   ]
  },
  {
   "cell_type": "code",
   "execution_count": null,
   "metadata": {},
   "outputs": [],
   "source": [
    "## -------------------------------------------------------\n",
    "## List computers\n",
    "qb = QueryBuilder()\n",
    "qb.append(Computer, filters={'enabled': True})\n",
    "all_computers = qb.all()\n",
    "\n",
    "computer_selection = [comp[0].get_name() for comp in all_computers]\n",
    "\n",
    "style = {'description_width': '120px'}\n",
    "layout = {'width': '70%'}\n",
    "drop_computer = ipw.Dropdown(description=\"Computer\",\n",
    "                             options=['']+computer_selection)\n",
    "\n",
    "def show_codes(c):\n",
    "    qb = QueryBuilder()\n",
    "    qb.append(Computer, filters={'enabled': True}, project=['name'], tag='computer')\n",
    "    qb.append(Code, project=['*'], has_computer='computer')\n",
    "    with code_output:\n",
    "        clear_output()\n",
    "        print(\"Codes on \" + drop_computer.value + \":\")\n",
    "        for e in qb.all():\n",
    "            if e[0] == drop_computer.value:\n",
    "                print(e[1])\n",
    "                \n",
    "code_output = ipw.Output()\n",
    "\n",
    "drop_computer.observe(show_codes, names='value')\n",
    "\n",
    "show_codes(0)\n",
    "\n",
    "display(ipw.VBox([drop_computer, code_output]))"
   ]
  },
  {
   "cell_type": "markdown",
   "metadata": {},
   "source": [
    "Set the remote path where to install codes. Needs to be a location available to the calculation nodes (e.g. not `/project/` on Piz-Daint). \n",
    "\n",
    "Example: `/users/username/aiida-soft`"
   ]
  },
  {
   "cell_type": "code",
   "execution_count": null,
   "metadata": {},
   "outputs": [],
   "source": [
    "inp_username = ipw.Text(description=\"Install path:\", layout=layout, style=style)\n",
    "display(inp_username)"
   ]
  },
  {
   "cell_type": "markdown",
   "metadata": {},
   "source": [
    "Retrieve scripts to the install path at remote machine"
   ]
  },
  {
   "cell_type": "code",
   "execution_count": null,
   "metadata": {},
   "outputs": [],
   "source": [
    "def retrive_scripts(b):\n",
    "    \n",
    "    global version_id, code_dir_path\n",
    "    \n",
    "    commit_hash = ! git ls-remote \"https://github.com/eimrek/atomistic_tools.git\"\n",
    "    version_id = commit_hash[0][:6]\n",
    "\n",
    "    code_dir_name = \"at_\"+version_id\n",
    "\n",
    "    code_remote_path = inp_username.value\n",
    "\n",
    "    code_dir_path = code_remote_path+\"/\"+code_dir_name\n",
    "\n",
    "    computer = Computer.get(drop_computer.value)\n",
    "\n",
    "    with retrieve_output:\n",
    "        \n",
    "        clear_output()\n",
    "\n",
    "        # ssh key needs to be set\n",
    "        ! ssh {computer.hostname} \"wget https://github.com/eimrek/atomistic_tools/archive/master.zip -O {code_remote_path}/{code_dir_name}.zip\"\n",
    "        ! ssh {computer.hostname} \"cd {code_remote_path} && unzip -o {code_dir_name}.zip && rm -rf {code_dir_name} && mv atomistic_tools-master {code_dir_name}\"\n",
    "        ! ssh {computer.hostname} \"cd {code_remote_path}/{code_dir_name} && chmod u+x evaluate_morbs_in_box_mpi.py stm_sts_extrap_from_npz.py\"\n",
    "\n",
    "code_dir_path = None\n",
    "version_id = None\n",
    "\n",
    "retrieve_output = ipw.Output()\n",
    "\n",
    "retrieve_button = ipw.Button(description=\"Retrieve scripts\")\n",
    "\n",
    "retrieve_button.on_click(retrive_scripts)\n",
    "\n",
    "display(retrieve_button, retrieve_output)\n"
   ]
  },
  {
   "cell_type": "markdown",
   "metadata": {},
   "source": [
    "## Set up the remote codes in Aiida"
   ]
  },
  {
   "cell_type": "markdown",
   "metadata": {},
   "source": [
    "For orbital evaluation script, python instance with MPI and ASE is needed.\n",
    "\n",
    "Please provide the correct bash commands to make this available (this text will be prepended to each slurm script)."
   ]
  },
  {
   "cell_type": "code",
   "execution_count": null,
   "metadata": {},
   "outputs": [],
   "source": [
    "eval_prepend_text = ipw.Textarea(description=\"Prepend text:\",\n",
    "             layout = {'width': '70%'},\n",
    "             value =\n",
    "                \"module load cray-python/3.6.1.1\\n\" +\n",
    "                \"export PYTHONPATH=$PYTHONPATH:\\\"/users/keimre/soft/ase\\\"\\n\"\n",
    "            )\n",
    "\n",
    "display(eval_prepend_text)"
   ]
  },
  {
   "cell_type": "code",
   "execution_count": null,
   "metadata": {},
   "outputs": [],
   "source": [
    "def setup_eval_mol_orb():\n",
    "    \n",
    "    # Eval mol. orbitals\n",
    "    # Python with MPI support and ASE\n",
    "    prepend_text  = \"### code prepend_text start ###\\n\"\n",
    "    prepend_text += eval_prepend_text.value\n",
    "    prepend_text += \"### code prepend_text end ###\\n\"\n",
    "\n",
    "    code_label = \"py_eval_morbs_\"+version_id\n",
    "\n",
    "    code_full_name = code_label + \"@\" + drop_computer.value\n",
    "\n",
    "    try:\n",
    "        Code.get_from_string(code_full_name)\n",
    "    except (NotExistent, MultipleObjectsError):            \n",
    "        code = Code(remote_computer_exec=(Computer.get(drop_computer.value), code_dir_path + \"/evaluate_morbs_in_box_mpi.py\"))\n",
    "        code.label = code_label\n",
    "        code.description = \"Python code to evaluate mol. orbitals on a grid\"\n",
    "        code.set_input_plugin_name(\"stm.eval_morbs\")\n",
    "        code.set_prepend_text(prepend_text)\n",
    "        code.set_append_text(\"\")\n",
    "        code.store()\n",
    "        ! verdi code show \"{code_full_name}\"\n",
    "    else:\n",
    "        print(\"Code '{}' already existent\".format(code_full_name))\n",
    "        \n",
    "def on_eval_setup_click(b):\n",
    "    with eval_setup_out:\n",
    "        clear_output()\n",
    "        setup_eval_mol_orb()\n",
    "    \n",
    "eval_setup_out = ipw.Output()\n",
    "\n",
    "eval_setup_btn = ipw.Button(description=\"Setup eval morbs\")\n",
    "eval_setup_btn.on_click(on_eval_setup_click)\n",
    "\n",
    "display(eval_setup_btn, eval_setup_out)"
   ]
  },
  {
   "cell_type": "markdown",
   "metadata": {},
   "source": [
    "For image creation script, python instance with matplotlib is needed. (In addition to the usual ase, numpy, ...)\n",
    "\n",
    "Please provide the correct bash commands to make this available (this text will be prepended to each slurm script)."
   ]
  },
  {
   "cell_type": "code",
   "execution_count": null,
   "metadata": {},
   "outputs": [],
   "source": [
    "imag_prepend_text = ipw.Textarea(description=\"Prepend text:\",\n",
    "             layout = {'width': '70%'},\n",
    "             value =\n",
    "                \"export PATH='/users/keimre/soft/miniconda3/bin':$PATH\\n\"\n",
    "            )\n",
    "\n",
    "display(imag_prepend_text)"
   ]
  },
  {
   "cell_type": "code",
   "execution_count": null,
   "metadata": {},
   "outputs": [],
   "source": [
    "def setup_stm_imag():\n",
    "    \n",
    "    # Eval mol. orbitals\n",
    "    # Python with MPI support and ASE\n",
    "    prepend_text  = \"### code prepend_text start ###\\n\"\n",
    "    prepend_text += imag_prepend_text.value\n",
    "    prepend_text += \"mkdir stm_output\\n\"\n",
    "    prepend_text += \"### code prepend_text end ###\\n\"\n",
    "\n",
    "    code_label = \"py_stm_sts_\"+version_id\n",
    "\n",
    "    code_full_name = code_label + \"@\" + drop_computer.value\n",
    "\n",
    "    try:\n",
    "        Code.get_from_string(code_full_name)\n",
    "    except (NotExistent, MultipleObjectsError):            \n",
    "        code = Code(remote_computer_exec=(Computer.get(drop_computer.value), code_dir_path + \"/evaluate_morbs_in_box_mpi.py\"))\n",
    "        code.label = code_label\n",
    "        code.description = \"Python code to calculate STM and STS from the output of py_eval_morbs\"\n",
    "        code.set_input_plugin_name(\"stm.stm_image\")\n",
    "        code.set_prepend_text(prepend_text)\n",
    "        code.set_append_text(\"\")\n",
    "        code.store()\n",
    "        ! verdi code show \"{code_full_name}\"\n",
    "    else:\n",
    "        print(\"Code '{}' already existent\".format(code_full_name))\n",
    "        \n",
    "def on_imag_setup_click(b):\n",
    "    with imag_setup_out:\n",
    "        clear_output()\n",
    "        setup_stm_imag()\n",
    "    \n",
    "imag_setup_out = ipw.Output()\n",
    "\n",
    "imag_setup_btn = ipw.Button(description=\"Setup stm imag\")\n",
    "imag_setup_btn.on_click(on_imag_setup_click)\n",
    "\n",
    "display(imag_setup_btn, imag_setup_out)"
   ]
  }
 ],
 "metadata": {
  "kernelspec": {
   "display_name": "Python 2",
   "language": "python",
   "name": "python2"
  },
  "language_info": {
   "codemirror_mode": {
    "name": "ipython",
    "version": 2
   },
   "file_extension": ".py",
   "mimetype": "text/x-python",
   "name": "python",
   "nbconvert_exporter": "python",
   "pygments_lexer": "ipython2",
   "version": "2.7.14"
  }
 },
 "nbformat": 4,
 "nbformat_minor": 2
}
