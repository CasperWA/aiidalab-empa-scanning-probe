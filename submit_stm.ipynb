{
 "cells": [
  {
   "cell_type": "code",
   "execution_count": 1,
   "metadata": {},
   "outputs": [],
   "source": [
    "%aiida\n",
    "from aiida import load_dbenv, is_dbenv_loaded\n",
    "from aiida.backends import settings\n",
    "if not is_dbenv_loaded():\n",
    "    load_dbenv(profile=settings.AIIDADB_PROFILE)"
   ]
  },
  {
   "cell_type": "code",
   "execution_count": 5,
   "metadata": {},
   "outputs": [],
   "source": [
    "from aiida.orm.code import Code\n",
    "from aiida.orm import Code, Computer\n",
    "from aiida.orm.querybuilder import QueryBuilder\n",
    "from aiida.orm.data.base import Int, Float, Str, Bool\n",
    "from aiida.orm.data.parameter import ParameterData\n",
    "from aiida.work.run import submit\n",
    "from aiida.orm.data.structure import StructureData"
   ]
  },
  {
   "cell_type": "code",
   "execution_count": 20,
   "metadata": {},
   "outputs": [
    {
     "name": "stdout",
     "output_type": "stream",
     "text": [
      "[[u'daint-s746', <Code: Remote code 'cp2k_6.0_18265' on daint-s746, pk: 214, uuid: f29f8268-2d86-4d8c-9fe8-cb491575db42>], [u'daint-s746-normal', <Code: Remote code 'cp2k_6.0_18265' on daint-s746-normal, pk: 1078, uuid: 2b831656-7e4e-4ede-b4a1-e7868ed86c34>]]\n"
     ]
    }
   ],
   "source": [
    "## -------------------------------------------------------\n",
    "## Select computer and code\n",
    "qb = QueryBuilder()\n",
    "qb.append(Computer, filters={'enabled': True}, project='name', tag='computer')\n",
    "qb.append(Code, project='*', has_computer='computer', filters={'attributes.input_plugin': 'cp2k'})\n",
    "qb.order_by({Code: {'id': 'asc'}})\n",
    "\n",
    "print(qb.all())\n",
    "computer, code = qb.all()[1]\n",
    "## -------------------------------------------------------"
   ]
  },
  {
   "cell_type": "code",
   "execution_count": 13,
   "metadata": {},
   "outputs": [
    {
     "name": "stdout",
     "output_type": "stream",
     "text": [
      "[[<Code: Remote code 'q2r-6.1' on daint-s746-normal, pk: 1084, uuid: 64e560da-4786-495c-8d17-dc3cc2bf0bd4>], [<Code: Remote code 'matdyn-6.1' on daint-s746-normal, pk: 1083, uuid: 9aa49b21-3826-42ba-be10-916eabfc92ff>], [<Code: Remote code 'projwfc-6.1' on daint-s746-normal, pk: 1082, uuid: f53c4538-4c35-4c42-be3d-253fa7769990>], [<Code: Remote code 'ph-6.1' on daint-s746-normal, pk: 1081, uuid: 2fe4aff7-16fb-453e-9a8b-1ff33199ed19>], [<Code: Remote code 'pp-6.1' on daint-s746-normal, pk: 1080, uuid: 6e44c37a-8f03-485b-bae4-e83d1c7fad52>], [<Code: Remote code 'pw-6.1' on daint-s746-normal, pk: 1079, uuid: 409de94c-2397-41de-a832-cb43dd242320>], [<Code: Remote code 'cp2k_6.0_18265' on daint-s746-normal, pk: 1078, uuid: 2b831656-7e4e-4ede-b4a1-e7868ed86c34>], [<Code: Remote code 'q2r-6.1' on daint-s746, pk: 220, uuid: a59fde03-84a6-4b1a-9333-9ccc63a90c1c>], [<Code: Remote code 'matdyn-6.1' on daint-s746, pk: 219, uuid: 75226995-05f2-4f0b-accc-82fde07302fd>], [<Code: Remote code 'projwfc-6.1' on daint-s746, pk: 218, uuid: 049ab577-eea0-4f6a-bda4-9104c833839e>], [<Code: Remote code 'ph-6.1' on daint-s746, pk: 217, uuid: aef87ad8-91c1-4c4f-a901-05851d3b4a69>], [<Code: Remote code 'pp-6.1' on daint-s746, pk: 216, uuid: 7828ae51-1a67-4675-97b6-09c35a92e00c>], [<Code: Remote code 'pw-6.1' on daint-s746, pk: 215, uuid: 72f53cb2-1725-444a-82ad-4d6b8b6b8d63>], [<Code: Remote code 'cp2k_6.0_18265' on daint-s746, pk: 214, uuid: f29f8268-2d86-4d8c-9fe8-cb491575db42>]]\n"
     ]
    }
   ],
   "source": [
    "qb = QueryBuilder()\n",
    "qb.append(Code)\n",
    "\n",
    "print(qb.all())"
   ]
  },
  {
   "cell_type": "code",
   "execution_count": null,
   "metadata": {},
   "outputs": [],
   "source": []
  },
  {
   "cell_type": "code",
   "execution_count": 14,
   "metadata": {},
   "outputs": [
    {
     "name": "stdout",
     "output_type": "stream",
     "text": [
      "(0, u'upload_5derivative_3_kris')\n",
      "(1, u'upload_5derivative_3_kris.scale(0.938)')\n",
      "(2, u'upload_5dervivative_3_corrected2_kris')\n",
      "(3, u'upload_5dervivative_3_corrected2_kris.scale(0.938)')\n",
      "(4, u'C24H12 upload_5dervivative_3_corrected2_kris.scale(0.938) cell(15, 51)')\n",
      "(5, u'upload_5dervivative_3_corrected2_kris.scale(0.938).slab(9,4,6)')\n",
      "(6, u'upload(C40H248Au896)_indenof_o_h_final')\n",
      "(7, u'upload(C40H250Au896)_indenof_o_h2_final')\n",
      "(8, u'upload(C40H250Au896)_indenof_o_h_final')\n",
      "(9, u'upload(C40H248Au896)_indenof_o_h_final')\n",
      "(10, u'upload(C40H250Au896)_indenof_o_h2_final')\n",
      "(11, u'')\n",
      "(12, u'')\n",
      "(13, u'')\n",
      "(14, u'')\n",
      "(15, u'')\n",
      "(16, u'')\n",
      "(17, u'')\n",
      "(18, u'')\n",
      "(19, u'')\n",
      "(20, u'')\n",
      "(21, u'')\n",
      "(22, u'')\n",
      "(23, u'')\n",
      "(24, u'')\n",
      "(25, u'')\n",
      "(26, u'')\n",
      "(27, u'')\n",
      "(28, u'upload(C2H2)_rot')\n",
      "(29, u'upload(C2H2)')\n",
      "(30, u'upload(C2H2)_real')\n"
     ]
    }
   ],
   "source": [
    "## -------------------------------------------------------\n",
    "## Select structure\n",
    "\n",
    "qb = QueryBuilder()\n",
    "qb.append(StructureData)\n",
    "\n",
    "for i, str_data in enumerate(qb.all()):\n",
    "    n = str_data[0]\n",
    "    print(i, n.description)\n",
    "\n",
    "struct_data = qb.all()[6][0]"
   ]
  },
  {
   "cell_type": "code",
   "execution_count": 15,
   "metadata": {},
   "outputs": [
    {
     "data": {
      "text/plain": [
       "Atoms(symbols='C40H248Au896', pbc=False, cell=[40.35367275, 40.59089532, 13.42407524], masses=...)"
      ]
     },
     "execution_count": 15,
     "metadata": {},
     "output_type": "execute_result"
    }
   ],
   "source": [
    "struct_data.get_ase()"
   ]
  },
  {
   "cell_type": "code",
   "execution_count": 16,
   "metadata": {},
   "outputs": [],
   "source": [
    "from apps.stm.stm_workchain import STMWorkChain"
   ]
  },
  {
   "cell_type": "code",
   "execution_count": 17,
   "metadata": {},
   "outputs": [
    {
     "name": "stdout",
     "output_type": "stream",
     "text": [
      "RunningInfo(type=<RunningType.PROCESS: 0>, pid=1094)\n"
     ]
    }
   ],
   "source": [
    "outputs = submit(STMWorkChain,\n",
    "                 cp2k_code=code,\n",
    "                 structure=struct_data,\n",
    "                 vdw_switch=Bool(True))\n",
    "print(outputs)"
   ]
  },
  {
   "cell_type": "code",
   "execution_count": 16,
   "metadata": {},
   "outputs": [
    {
     "data": {
      "text/plain": [
       "1061"
      ]
     },
     "execution_count": 16,
     "metadata": {},
     "output_type": "execute_result"
    }
   ],
   "source": [
    "outputs.pid"
   ]
  },
  {
   "cell_type": "code",
   "execution_count": 9,
   "metadata": {},
   "outputs": [],
   "source": [
    "the_workcalc = load_node(outputs.pid)"
   ]
  },
  {
   "cell_type": "code",
   "execution_count": 10,
   "metadata": {},
   "outputs": [
    {
     "data": {
      "text/plain": [
       "{u'_aborted': False,\n",
       " u'_finished': True,\n",
       " u'_process_label': u'STMWorkChain',\n",
       " u'_sealed': True}"
      ]
     },
     "execution_count": 10,
     "metadata": {},
     "output_type": "execute_result"
    }
   ],
   "source": [
    "the_workcalc.get_attrs()"
   ]
  },
  {
   "cell_type": "code",
   "execution_count": 11,
   "metadata": {},
   "outputs": [
    {
     "data": {
      "text/plain": [
       "{}"
      ]
     },
     "execution_count": 11,
     "metadata": {},
     "output_type": "execute_result"
    }
   ],
   "source": [
    "the_workcalc.get_extras()"
   ]
  },
  {
   "cell_type": "code",
   "execution_count": 12,
   "metadata": {},
   "outputs": [
    {
     "data": {
      "text/plain": [
       "<WorkCalculation: uuid: a1b6fd8d-baaa-4e18-8ad2-25893c737108 (pk: 1016)>"
      ]
     },
     "execution_count": 12,
     "metadata": {},
     "output_type": "execute_result"
    }
   ],
   "source": [
    "the_workcalc"
   ]
  },
  {
   "cell_type": "code",
   "execution_count": 14,
   "metadata": {},
   "outputs": [
    {
     "data": {
      "text/plain": [
       "{u'cp2k_code': <Code: Remote code 'cp2k_6.0_18265' on daint-s746, pk: 214, uuid: f29f8268-2d86-4d8c-9fe8-cb491575db42>,\n",
       " u'mgrid_cutoff': 600,\n",
       " u'structure': <StructureData: uuid: 60118d76-89de-4d92-8d99-538715ece5ae (pk: 940)>,\n",
       " u'vdw_switch': False}"
      ]
     },
     "execution_count": 14,
     "metadata": {},
     "output_type": "execute_result"
    }
   ],
   "source": [
    "the_workcalc.get_inputs_dict()"
   ]
  },
  {
   "cell_type": "code",
   "execution_count": 15,
   "metadata": {},
   "outputs": [
    {
     "data": {
      "text/plain": [
       "[<Cp2kCalculation: uuid: 181ade36-1fc4-4100-a479-da769d199b39 (pk: 1020)>]"
      ]
     },
     "execution_count": 15,
     "metadata": {},
     "output_type": "execute_result"
    }
   ],
   "source": [
    "the_workcalc.get_outputs()"
   ]
  },
  {
   "cell_type": "code",
   "execution_count": 16,
   "metadata": {},
   "outputs": [
    {
     "data": {
      "text/plain": [
       "[<RemoteData: uuid: 69cf93ba-0499-4a13-82c6-78e6b6c28753 (pk: 1021)>,\n",
       " <FolderData: uuid: 249971b5-ed55-4c78-8330-f2c0bd23fcfc (pk: 1022)>,\n",
       " <ParameterData: uuid: 575e92d7-0edd-44b2-b328-cbd122592643 (pk: 1023)>]"
      ]
     },
     "execution_count": 16,
     "metadata": {},
     "output_type": "execute_result"
    }
   ],
   "source": [
    "a = the_workcalc.get_outputs()[0]\n",
    "a.get_outputs()"
   ]
  },
  {
   "cell_type": "code",
   "execution_count": 17,
   "metadata": {},
   "outputs": [],
   "source": [
    "b = a.get_outputs()[1]"
   ]
  },
  {
   "cell_type": "code",
   "execution_count": 18,
   "metadata": {},
   "outputs": [
    {
     "data": {
      "text/plain": [
       "[u'aiida.out',\n",
       " u'aiida-RESTART.wfn',\n",
       " u'_scheduler-stdout.txt',\n",
       " u'BASIS_MOLOPT',\n",
       " u'_scheduler-stderr.txt',\n",
       " u'aiida.inp']"
      ]
     },
     "execution_count": 18,
     "metadata": {},
     "output_type": "execute_result"
    }
   ],
   "source": [
    "path = b.get_abs_path() + \"/path/\"\n",
    "files = b.get_folder_list()\n",
    "files"
   ]
  },
  {
   "cell_type": "markdown",
   "metadata": {},
   "source": [
    "# Orbital analysis"
   ]
  },
  {
   "cell_type": "code",
   "execution_count": 51,
   "metadata": {},
   "outputs": [],
   "source": [
    "import time\n",
    "import numpy as np\n",
    "\n",
    "import matplotlib\n",
    "import matplotlib.pyplot as plt\n",
    "\n",
    "import my_apps.stm.cp2k_stm_utilities as csu\n",
    "\n",
    "\n",
    "ang_2_bohr = 1.0/0.52917721067\n",
    "hart_2_ev = 27.21138602"
   ]
  },
  {
   "cell_type": "code",
   "execution_count": 20,
   "metadata": {},
   "outputs": [],
   "source": [
    "file_cp2k_inp = path + \"aiida.inp\"\n",
    "file_restart = path + \"aiida-RESTART.wfn\"\n",
    "file_basis_set = path + \"BASIS_MOLOPT\""
   ]
  },
  {
   "cell_type": "code",
   "execution_count": 33,
   "metadata": {},
   "outputs": [],
   "source": [
    "emin = -20.0\n",
    "emax = 20.0"
   ]
  },
  {
   "cell_type": "code",
   "execution_count": 34,
   "metadata": {},
   "outputs": [
    {
     "name": "stdout",
     "output_type": "stream",
     "text": [
      "Read cp2k input: 0.000\n",
      "Read basis sets: 0.005\n",
      "('HOMO energy', -0.23218889042968352)\n",
      "('First molecular index in energy range: ', 0)\n",
      "Found 15 orbitals\n",
      "Read restart: 0.003\n"
     ]
    }
   ],
   "source": [
    "time1 = time.time()\n",
    "elem_basis_names, cell = csu.read_cp2k_input(file_cp2k_inp)\n",
    "print(\"Read cp2k input: %.3f\" % (time.time()-time1))\n",
    "\n",
    "time1 = time.time()\n",
    "basis_sets = csu.read_basis_functions(file_basis_set, elem_basis_names)\n",
    "print(\"Read basis sets: %.3f\" % (time.time()-time1))\n",
    "\n",
    "time1 = time.time()\n",
    "morb_composition, morb_energies, morb_occs, homo_inds = csu.load_restart_wfn_file(file_restart, emin, emax)\n",
    "print(\"Found %d orbitals\" % len(morb_energies[0]))\n",
    "print(\"Read restart: %.3f\" % (time.time()-time1))"
   ]
  },
  {
   "cell_type": "code",
   "execution_count": 91,
   "metadata": {},
   "outputs": [
    {
     "data": {
      "text/plain": [
       "array([[ 2.        ,  2.12345678,  1.9999    ],\n",
       "       [ 3.063     ,  2.        ,  2.        ],\n",
       "       [ 4.282     ,  2.06      ,  2.05      ],\n",
       "       [ 5.345     ,  2.03      ,  2.02      ]])"
      ]
     },
     "execution_count": 91,
     "metadata": {},
     "output_type": "execute_result"
    }
   ],
   "source": [
    "ase_atoms = struct_data.get_ase().copy()\n",
    "ase_atoms.positions"
   ]
  },
  {
   "cell_type": "code",
   "execution_count": 92,
   "metadata": {},
   "outputs": [
    {
     "data": {
      "text/plain": [
       "array([[ 3.3275    ,  3.06172839,  2.97495   ],\n",
       "       [ 4.3905    ,  2.93827161,  2.97505   ],\n",
       "       [ 5.6095    ,  2.99827161,  3.02505   ],\n",
       "       [ 6.6725    ,  2.96827161,  2.99505   ]])"
      ]
     },
     "execution_count": 92,
     "metadata": {},
     "output_type": "execute_result"
    }
   ],
   "source": [
    "csu.center_atoms_to_cell(ase_atoms.positions, cell/ang_2_bohr)\n",
    "ase_atoms.positions"
   ]
  },
  {
   "cell_type": "code",
   "execution_count": 93,
   "metadata": {},
   "outputs": [
    {
     "data": {
      "text/plain": [
       "[[4], [5], [5]]"
      ]
     },
     "execution_count": 93,
     "metadata": {},
     "output_type": "execute_result"
    }
   ],
   "source": [
    "homo_inds"
   ]
  },
  {
   "cell_type": "code",
   "execution_count": 94,
   "metadata": {},
   "outputs": [
    {
     "data": {
      "text/plain": [
       "[array([ -1.14413211e+01,  -7.06163726e+00,  -5.12206352e+00,\n",
       "         -1.26802847e-02,   0.00000000e+00,   6.68396064e+00,\n",
       "          6.80315508e+00,   7.63082593e+00,   9.33494766e+00,\n",
       "          1.04592056e+01,   1.06408046e+01,   1.61750436e+01,\n",
       "          1.62418398e+01,   1.79093278e+01,   1.90365879e+01])]"
      ]
     },
     "execution_count": 94,
     "metadata": {},
     "output_type": "execute_result"
    }
   ],
   "source": [
    "morb_energies"
   ]
  },
  {
   "cell_type": "code",
   "execution_count": 95,
   "metadata": {},
   "outputs": [
    {
     "data": {
      "text/plain": [
       "[array([ 2.,  2.,  2.,  2.,  2.,  0.,  0.,  0.,  0.,  0.,  0.,  0.,  0.,\n",
       "         0.,  0.])]"
      ]
     },
     "execution_count": 95,
     "metadata": {},
     "output_type": "execute_result"
    }
   ],
   "source": [
    "morb_occs"
   ]
  },
  {
   "cell_type": "code",
   "execution_count": 96,
   "metadata": {},
   "outputs": [],
   "source": [
    "# Define real space grid\n",
    "# Cp2k chooses close to 0.08 angstroms (?)\n",
    "step = 0.16 \n",
    "step *= ang_2_bohr\n",
    "cell_n = (np.round(cell/step)).astype(int)"
   ]
  },
  {
   "cell_type": "code",
   "execution_count": 97,
   "metadata": {},
   "outputs": [],
   "source": [
    "# define evaluation region:\n",
    "\n",
    "x_eval_region = None\n",
    "y_eval_region = None\n",
    "z_eval_region = None\n",
    "\n",
    "eval_regions = [x_eval_region, y_eval_region, z_eval_region]\n",
    "\n",
    "origin = np.zeros(3)\n",
    "new_cell = np.copy(cell)\n",
    "\n",
    "for i, e_reg in enumerate(eval_regions):\n",
    "    if e_reg is None:\n",
    "        origin[i] = 0.0\n",
    "        new_cell[i] = cell[i]\n",
    "    else:\n",
    "        origin[i] = e_reg[0]\n",
    "        new_cell[i] = e_reg[1] - e_reg[0]"
   ]
  },
  {
   "cell_type": "code",
   "execution_count": 98,
   "metadata": {},
   "outputs": [
    {
     "name": "stdout",
     "output_type": "stream",
     "text": [
      "('Global cell: ', array([63, 38, 38]))\n",
      "('Eval cell: ', array([63, 38, 38]))\n",
      "('local cell: ', array([76, 76, 76]))\n",
      "---- Setup: 0.0055\n",
      "---- Radial calc time : 2.183568\n",
      "---- Spherical calc time : 0.092972\n",
      "---- Loc -> loc_morb time : 0.986342\n",
      "---- loc_morb -> glob time : 0.165619\n",
      "---- Total time: 3.5732\n"
     ]
    }
   ],
   "source": [
    "morb_grids = csu.calc_morbs_in_region(cell, cell_n,\n",
    "                                      ase_atoms,\n",
    "                                      basis_sets, morb_composition,\n",
    "                                      x_eval_region = x_eval_region,\n",
    "                                      y_eval_region = y_eval_region,\n",
    "                                      z_eval_region = z_eval_region,\n",
    "                                      eval_cutoff = 12.0\n",
    "                                     )"
   ]
  },
  {
   "cell_type": "code",
   "execution_count": 99,
   "metadata": {},
   "outputs": [
    {
     "data": {
      "text/plain": [
       "(15, 63, 38, 38)"
      ]
     },
     "execution_count": 99,
     "metadata": {},
     "output_type": "execute_result"
    }
   ],
   "source": [
    "morb_grids[0].shape"
   ]
  },
  {
   "cell_type": "code",
   "execution_count": 123,
   "metadata": {},
   "outputs": [
    {
     "data": {
      "image/png": "[encoded data removed]",
      "text/plain": [
       "<matplotlib.figure.Figure at 0x7f0e52fd8e90>"
      ]
     },
     "metadata": {},
     "output_type": "display_data"
    }
   ],
   "source": [
    "plt.figure(figsize=(cell[1]/2, cell[0]/2))\n",
    "\n",
    "plt.pcolormesh(morb_grids[0][4][:, :, 24])\n",
    "plt.show()"
   ]
  },
  {
   "cell_type": "code",
   "execution_count": null,
   "metadata": {},
   "outputs": [],
   "source": []
  }
 ],
 "metadata": {
  "kernelspec": {
   "display_name": "Python 2",
   "language": "python",
   "name": "python2"
  },
  "language_info": {
   "codemirror_mode": {
    "name": "ipython",
    "version": 2
   },
   "file_extension": ".py",
   "mimetype": "text/x-python",
   "name": "python",
   "nbconvert_exporter": "python",
   "pygments_lexer": "ipython2",
   "version": "2.7.14"
  }
 },
 "nbformat": 4,
 "nbformat_minor": 2
}
